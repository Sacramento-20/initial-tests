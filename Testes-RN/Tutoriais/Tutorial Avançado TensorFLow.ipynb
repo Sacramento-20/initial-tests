{
 "cells": [
  {
   "cell_type": "code",
   "execution_count": 22,
   "id": "b06d3c53",
   "metadata": {},
   "outputs": [
    {
     "name": "stdout",
     "output_type": "stream",
     "text": [
      "TensorFlow version:  2.11.0\n"
     ]
    }
   ],
   "source": [
    "import tensorflow as tf\n",
    "print(\"TensorFlow version: \", tf.__version__)\n",
    "from tensorflow.keras.layers import Dense, Flatten, Conv2D\n",
    "from tensorflow.keras import Model"
   ]
  },
  {
   "cell_type": "markdown",
   "id": "e0ec63c4",
   "metadata": {},
   "source": [
    "### Conjunto de Testes - MNIST"
   ]
  },
  {
   "cell_type": "code",
   "execution_count": 23,
   "id": "f7b16d34",
   "metadata": {},
   "outputs": [],
   "source": [
    "mnist = tf.keras.datasets.mnist\n",
    "\n",
    "# Separação treino e teste\n",
    "(x_train, y_train), (x_test, y_test) = mnist.load_data();\n",
    "x_train, x_test = x_train / 255.0, x_test /255.0;\n",
    "\n",
    "#\n",
    "x_train = x_train[..., tf.newaxis].astype(\"float32\")\n",
    "x_test = x_test[..., tf.newaxis].astype(\"float32\")"
   ]
  },
  {
   "cell_type": "code",
   "execution_count": 24,
   "id": "8d599a40",
   "metadata": {},
   "outputs": [],
   "source": [
    "train_ds = tf.data.Dataset.from_tensor_slices(\n",
    "    (x_train, y_train)).shuffle(10000).batch(32)\n",
    "\n",
    "test_ds = tf.data.Dataset.from_tensor_slices((x_test, y_test)).batch(32)"
   ]
  },
  {
   "cell_type": "code",
   "execution_count": 37,
   "id": "b1e343c2",
   "metadata": {},
   "outputs": [],
   "source": [
    "class MyModel(Model):\n",
    "    def __init__(self):\n",
    "        super(MyModel, self).__init__();\n",
    "        self.conv1 = Conv2D(32, 3, activation = 'relu');\n",
    "        self.flatten = Flatten();\n",
    "        self.d1 = Dense(128, activation = 'relu');\n",
    "        self.d2 = Dense(10);\n",
    "        \n",
    "    def call(self, x):\n",
    "        x = self.conv1(x);\n",
    "        x = self.flatten(x);\n",
    "        x = self.d1(x);\n",
    "        return self.d2(x)\n",
    "\n",
    "model = MyModel()"
   ]
  },
  {
   "cell_type": "code",
   "execution_count": 38,
   "id": "b1a462c9",
   "metadata": {},
   "outputs": [],
   "source": [
    "loss_object = tf.keras.losses.SparseCategoricalCrossentropy(from_logits = True);\n",
    "optimizer = tf.keras.optimizers.Adam();"
   ]
  },
  {
   "cell_type": "code",
   "execution_count": 39,
   "id": "79866fa3",
   "metadata": {},
   "outputs": [],
   "source": [
    "train_loss = tf.keras.metrics.Mean(name = 'train_loss');\n",
    "train_accuracy = tf.keras.metrics.SparseCategoricalAccuracy(name = 'train_accuracy');\n",
    "\n",
    "test_loss = tf.keras.metrics.Mean(name = 'test_loss');\n",
    "test_accuracy = tf.keras.metrics.SparseCategoricalAccuracy(name = 'test_accuracy');"
   ]
  },
  {
   "cell_type": "code",
   "execution_count": 40,
   "id": "0e77d58e",
   "metadata": {},
   "outputs": [],
   "source": [
    "@tf.function\n",
    "def train_step(images, labels):\n",
    "    with tf.GradientTape() as tape:\n",
    "        predictions = model(images, training = True);\n",
    "        loss = loss_object(labels, predictions);\n",
    "    \n",
    "    gradients = tape.gradient(loss, model.trainable_variables);\n",
    "    optimizer.apply_gradients(zip(gradients, model.trainable_variables))\n",
    "    \n",
    "    train_loss(loss);\n",
    "    train_accuracy(labels, predictions);"
   ]
  },
  {
   "cell_type": "code",
   "execution_count": 41,
   "id": "01310bb3",
   "metadata": {},
   "outputs": [],
   "source": [
    "@tf.function\n",
    "def test_step(images, labels):\n",
    "    predictions = model(images, training = False);\n",
    "    t_loss = loss_object(labels, predictions);\n",
    "    \n",
    "    test_loss(t_loss);\n",
    "    test_accuracy(labels, predictions);"
   ]
  },
  {
   "cell_type": "code",
   "execution_count": 44,
   "id": "b4604b26",
   "metadata": {},
   "outputs": [
    {
     "name": "stdout",
     "output_type": "stream",
     "text": [
      "Epoch 1,\n",
      "Loss: 0.014036069624125957,\n",
      "Accuracy: 99.5250015258789,\n",
      "Test Loss: 0.06888333708047867,\n",
      "Test Accuracy: 98.25,\n",
      "Epoch 2,\n",
      "Loss: 0.009237987920641899,\n",
      "Accuracy: 99.6883316040039,\n",
      "Test Loss: 0.0867333933711052,\n",
      "Test Accuracy: 97.97999572753906,\n"
     ]
    }
   ],
   "source": [
    "EPOCHS = 2;\n",
    "\n",
    "for epoch in range(EPOCHS):\n",
    "    train_loss.reset_states();\n",
    "    train_accuracy.reset_states();\n",
    "    test_loss.reset_states();\n",
    "    test_accuracy.reset_states();\n",
    "    \n",
    "    for images, labels in train_ds:\n",
    "        train_step(images, labels);\n",
    "        \n",
    "    for test_images, test_labels in test_ds:\n",
    "        test_step(test_images, test_labels);\n",
    "    \n",
    "    print(\n",
    "    f'Epoch {epoch + 1},\\n'\n",
    "    f'Loss: {train_loss.result()},\\n'\n",
    "    f'Accuracy: {train_accuracy.result() * 100},\\n'\n",
    "    f'Test Loss: {test_loss.result()},\\n'\n",
    "    f'Test Accuracy: {test_accuracy.result() * 100},'\n",
    "    \n",
    "    )"
   ]
  }
 ],
 "metadata": {
  "kernelspec": {
   "display_name": "Python 3 (ipykernel)",
   "language": "python",
   "name": "python3"
  },
  "language_info": {
   "codemirror_mode": {
    "name": "ipython",
    "version": 3
   },
   "file_extension": ".py",
   "mimetype": "text/x-python",
   "name": "python",
   "nbconvert_exporter": "python",
   "pygments_lexer": "ipython3",
   "version": "3.10.6"
  }
 },
 "nbformat": 4,
 "nbformat_minor": 5
}
